{
 "cells": [
  {
   "cell_type": "code",
   "execution_count": 1,
   "metadata": {
    "ExecuteTime": {
     "end_time": "2016-11-18T23:41:40.895035",
     "start_time": "2016-11-18T23:41:40.261869"
    },
    "collapsed": false
   },
   "outputs": [],
   "source": [
    "import pandas as pd\n",
    "import highcharts_df\n",
    "from datetime import date"
   ]
  },
  {
   "cell_type": "code",
   "execution_count": 17,
   "metadata": {
    "ExecuteTime": {
     "end_time": "2016-11-18T23:56:15.662223",
     "start_time": "2016-11-18T23:56:15.624465"
    },
    "collapsed": false
   },
   "outputs": [
    {
     "data": {
      "text/html": [
       "<iframe style=\"border:0;outline:none;overflow:hidden\" srcdoc=\"&lt;!DOCTYPE html&gt; &lt;html lang=&quot;en&quot;&gt; &lt;head&gt; &lt;meta charset=&quot;utf-8&quot; /&gt; &lt;link href=&quot;https://www.highcharts.com/highslide/highslide.css&quot; rel=&quot;stylesheet&quot; /&gt; &lt;script type=&quot;text/javascript&quot; src=&quot;https://ajax.googleapis.com/ajax/libs/jquery/1.9.1/jquery.min.js&quot;&gt;&lt;/script&gt; &lt;script type=&quot;text/javascript&quot; src=&quot;https://code.highcharts.com/highcharts.js&quot;&gt;&lt;/script&gt; &lt;script type=&quot;text/javascript&quot; src=&quot;https://code.highcharts.com/highcharts-more.js&quot;&gt;&lt;/script&gt; &lt;script type=&quot;text/javascript&quot; src=&quot;https://code.highcharts.com/modules/heatmap.js&quot;&gt;&lt;/script&gt; &lt;script type=&quot;text/javascript&quot; src=&quot;https://code.highcharts.com/modules/exporting.js&quot;&gt;&lt;/script&gt; &lt;/head&gt; &lt;body style=&quot;margin:0;padding:0&quot;&gt; &lt;div id=&quot;container&quot; style=&quot;&quot;&gt;Loading....&lt;/div&gt; &lt;script&gt; $(function(){ Highcharts.setOptions({&quot;lang&quot;: {}, &quot;global&quot;: {}}); var option = {&quot;loading&quot;: {}, &quot;subtitle&quot;: {&quot;text&quot;: &quot;Peace never tasted so good&quot;}, &quot;xAxis&quot;: {&quot;reversed&quot;: false, &quot;title&quot;: {&quot;text&quot;: &quot;&quot;}, &quot;showLastLabel&quot;: true, &quot;maxPadding&quot;: 0.05}, &quot;title&quot;: {&quot;text&quot;: &quot;World Peace and Chocolate&quot;}, &quot;series&quot;: {}, &quot;labels&quot;: {}, &quot;yAxis&quot;: {&quot;title&quot;: {&quot;text&quot;: &quot;index&quot;}, &quot;labels&quot;: {&quot;overflow&quot;: &quot;justify&quot;, &quot;formatter&quot;: function () { return this.value; }}, &quot;opposite&quot;: false, &quot;lineWidth&quot;: 2}, &quot;chart&quot;: {&quot;borderColor&quot;: &quot;#000000&quot;, &quot;borderWidth&quot;: 0, &quot;borderRadius&quot;: 0, &quot;zoomType&quot;: &quot;xy&quot;, &quot;shadow&quot;: false, &quot;renderTo&quot;: &quot;container&quot;}, &quot;tooltip&quot;: {&quot;shared&quot;: false, &quot;pointFormat&quot;: &quot;&lt;br&gt;&lt;span style=\\&quot;color:{series.color}\\&quot;&gt;{series.name}&lt;/span&gt;: {point.y} &quot;, &quot;crosshairs&quot;: true}, &quot;plotOptions&quot;: {&quot;series&quot;: {&quot;dataLabels&quot;: {&quot;color&quot;: &quot;#FF0000&quot;, &quot;enabled&quot;: false, &quot;format&quot;: &quot;{point.y:.1f}&quot;}}}, &quot;credits&quot;: {&quot;enabled&quot;: false}, &quot;colors&quot;: [&quot;#1492fb&quot;, &quot;#27662a&quot;], &quot;pane&quot;: {}, &quot;exporting&quot;: {}, &quot;drilldown&quot;: {}, &quot;navigation&quot;: {&quot;buttonOptions&quot;: {&quot;align&quot;: &quot;left&quot;}}, &quot;legend&quot;: {&quot;width&quot;: 30, &quot;verticalAlign&quot;: &quot;bottom&quot;, &quot;layout&quot;: &quot;horizontal&quot;, &quot;align&quot;: &quot;center&quot;, &quot;enabled&quot;: true, &quot;floating&quot;: false, &quot;itemHoverStyle&quot;: {&quot;color&quot;: &quot;#000&quot;}}}; var data = [{&quot;data&quot;: [[2013, 8], [2014, 6], [2015, 7], [2016, 4], [2017, 3], [2018, 2], [2019, 2], [2020, 1], [2021, 5], [2022, 6]], &quot;type&quot;: &quot;line&quot;, &quot;name&quot;: &quot;peace_index&quot;}, {&quot;data&quot;: [[2013, 8], [2014, 9], [2015, 8], [2016, 7], [2017, 3], [2018, 1], [2019, 1], [2020, 1], [2021, 0], [2022, 6]], &quot;type&quot;: &quot;line&quot;, &quot;name&quot;: &quot;world_chocolate_consumption&quot;}]; option.series = data; var chart = new Highcharts.Chart(option); }); &lt;/script&gt; &lt;/body&gt; &lt;/html&gt;\" height=520 width=820></iframe>"
      ],
      "text/plain": [
       "<highcharts.highcharts.highcharts.Highchart at 0x111acbd10>"
      ]
     },
     "execution_count": 17,
     "metadata": {},
     "output_type": "execute_result"
    }
   ],
   "source": [
    "df = pd.DataFrame.from_records([\n",
    "    {\n",
    "        \"year\": 2013,\n",
    "        \"peace_index\": 8,\n",
    "        \"world_chocolate_consumption\": 8\n",
    "    },\n",
    "    {\n",
    "        \"year\": 2014,\n",
    "        \"peace_index\": 6,\n",
    "        \"world_chocolate_consumption\": 9\n",
    "    },\n",
    "    {\n",
    "        \"year\": 2015,\n",
    "        \"peace_index\": 7,\n",
    "        \"world_chocolate_consumption\": 8\n",
    "    },\n",
    "    {\n",
    "        \"year\": 2016,\n",
    "        \"peace_index\": 4,\n",
    "        \"world_chocolate_consumption\": 7\n",
    "    },\n",
    "    {\n",
    "        \"year\": 2017,\n",
    "        \"peace_index\": 3,\n",
    "        \"world_chocolate_consumption\": 3\n",
    "    },\n",
    "    {\n",
    "        \"year\": 2018,\n",
    "        \"peace_index\": 2,\n",
    "        \"world_chocolate_consumption\": 1\n",
    "    },\n",
    "    {\n",
    "        \"year\": 2019,\n",
    "        \"peace_index\": 2,\n",
    "        \"world_chocolate_consumption\": 1\n",
    "    },\n",
    "    {\n",
    "        \"year\": 2020,\n",
    "        \"peace_index\": 1,\n",
    "        \"world_chocolate_consumption\": 1\n",
    "    },\n",
    "    {\n",
    "        \"year\": 2021,\n",
    "        \"peace_index\": 5,\n",
    "        \"world_chocolate_consumption\": 0\n",
    "    },\n",
    "    {\n",
    "        \"year\": 2022,\n",
    "        \"peace_index\": 6,\n",
    "        \"world_chocolate_consumption\": 6\n",
    "    },\n",
    "])\n",
    "highcharts_df.pplot_from_df(\n",
    "    df.set_index('year'), \n",
    "    title=\"World Peace and Chocolate\",\n",
    "    subtitle='Peace never tasted so good',\n",
    "    xlabel=\"\",\n",
    "    ylabel=\"index\"\n",
    ")"
   ]
  },
  {
   "cell_type": "code",
   "execution_count": null,
   "metadata": {
    "collapsed": true
   },
   "outputs": [],
   "source": []
  }
 ],
 "metadata": {
  "kernelspec": {
   "display_name": "Python 2",
   "language": "python",
   "name": "python2"
  },
  "language_info": {
   "codemirror_mode": {
    "name": "ipython",
    "version": 2
   },
   "file_extension": ".py",
   "mimetype": "text/x-python",
   "name": "python",
   "nbconvert_exporter": "python",
   "pygments_lexer": "ipython2",
   "version": "2.7.12"
  },
  "toc": {
   "nav_menu": {
    "height": "12px",
    "width": "252px"
   },
   "navigate_menu": true,
   "number_sections": true,
   "sideBar": true,
   "threshold": 4,
   "toc_cell": false,
   "toc_section_display": "block",
   "toc_window_display": true
  }
 },
 "nbformat": 4,
 "nbformat_minor": 0
}
